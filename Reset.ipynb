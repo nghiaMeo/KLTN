{
 "cells": [
  {
   "cell_type": "code",
   "execution_count": null,
   "metadata": {},
   "outputs": [],
   "source": [
    "\n",
    "import os\n",
    "\n",
    "# Thư mục chứa các file cần kiểm tra và xóa\n",
    "folder_path = \"D:\\\\Downloads\\\\CAT_00\"\n",
    "\n",
    "# Liệt kê tất cả các file trong thư mục\n",
    "files = os.listdir(folder_path)\n",
    "\n",
    "# Lặp qua tất cả các file và kiểm tra phần mở rộng\n",
    "for file_name in files:\n",
    "    if file_name.endswith(\".cat\"):\n",
    "        # Tạo đường dẫn đầy đủ đến file\n",
    "        file_path = os.path.join(folder_path, file_name)\n",
    "        # Xóa file\n",
    "        os.remove(file_path)\n",
    "        print(f\"File {file_name} đã được xóa.\")"
   ]
  },
  {
   "cell_type": "code",
   "execution_count": 3,
   "metadata": {},
   "outputs": [
    {
     "name": "stdout",
     "output_type": "stream",
     "text": [
      "Đã chụp 3 ảnh.\n"
     ]
    }
   ],
   "source": [
    "import cv2\n",
    "import time\n",
    "import os\n",
    "from datetime import datetime\n",
    "\n",
    "# Tạo thư mục để lưu các hình ảnh chụp được\n",
    "if not os.path.exists(\"captured_images\"):\n",
    "    os.makedirs(\"captured_images\")\n",
    "\n",
    "# Mở webcam\n",
    "cap = cv2.VideoCapture(0)\n",
    "\n",
    "# Đợi cho đến khi webcam khả dụng\n",
    "while not cap.isOpened():\n",
    "    pass\n",
    "\n",
    "# Số lần chụp ảnh tối đa\n",
    "max_num_photos = 3\n",
    "\n",
    "# Biến đếm số lần chụp ảnh\n",
    "num_photos = 0\n",
    "\n",
    "# Chụp ảnh\n",
    "while True:\n",
    "    # Đọc hình ảnh từ webcam\n",
    "    ret, frame = cap.read()\n",
    "    \n",
    "    # Nếu không đọc được ảnh thì dừng\n",
    "    if not ret:\n",
    "        break\n",
    "    \n",
    "    # Lấy thời gian và ngày hiện tại\n",
    "    now = datetime.now()\n",
    "    time_str = now.strftime(\"%H-%M-%S\")\n",
    "    date_str = now.strftime(\"%Y-%m-%d\")\n",
    "    \n",
    "    # Tạo tên file\n",
    "    file_name = f\"captured_images/{date_str}_{time_str}.jpg\"\n",
    "    \n",
    "    # Lưu hình ảnh vào file\n",
    "    cv2.imwrite(file_name, frame)\n",
    "    \n",
    "    # Tăng biến đếm số lần chụp ảnh\n",
    "    num_photos += 1\n",
    "    \n",
    "    # Nếu đã chụp đủ số ảnh tối đa thì dừng vòng lặp\n",
    "    if num_photos == max_num_photos:\n",
    "        break\n",
    "    \n",
    "    # Chờ 2 giây trước khi chụp ảnh tiếp theo\n",
    "    time.sleep(2)\n",
    "\n",
    "# Đóng webcam\n",
    "cap.release()\n",
    "\n",
    "# Hiển thị số lượng ảnh đã chụp\n",
    "print(f\"Đã chụp {num_photos} ảnh.\")\n"
   ]
  },
  {
   "cell_type": "code",
   "execution_count": 7,
   "metadata": {},
   "outputs": [
    {
     "data": {
      "text/plain": [
       "update_time {\n",
       "  seconds: 1682163314\n",
       "  nanos: 694852000\n",
       "}"
      ]
     },
     "execution_count": 7,
     "metadata": {},
     "output_type": "execute_result"
    }
   ],
   "source": [
    "import firebase_admin\n",
    "from firebase_admin import credentials\n",
    "from firebase_admin import firestore\n",
    "\n",
    "# Đường dẫn đến tệp JSON chứa thông tin xác thực\n",
    "cred = credentials.Certificate(\"./serviceAccountKey.json\")\n",
    "\n",
    "# Khởi tạo ứng dụng Firebase\n",
    "firebase_admin.initialize_app(cred)\n",
    "\n",
    "# Tạo một kết nối Firestore\n",
    "db = firestore.client()\n",
    "\n",
    "# Thêm dữ liệu vào một bộ sưu tập\n",
    "doc_ref = db.collection('collection_name').document('document_name')\n",
    "doc_ref.set({\n",
    "    'key1': 'value1',\n",
    "    'key2': 'value2'\n",
    "})\n"
   ]
  }
 ],
 "metadata": {
  "kernelspec": {
   "display_name": "Python 3",
   "language": "python",
   "name": "python3"
  },
  "language_info": {
   "codemirror_mode": {
    "name": "ipython",
    "version": 3
   },
   "file_extension": ".py",
   "mimetype": "text/x-python",
   "name": "python",
   "nbconvert_exporter": "python",
   "pygments_lexer": "ipython3",
   "version": "3.9.11"
  },
  "orig_nbformat": 4,
  "vscode": {
   "interpreter": {
    "hash": "c261aea317cc0286b3b3261fbba9abdec21eaa57589985bb7a274bf54d6cc0a7"
   }
  }
 },
 "nbformat": 4,
 "nbformat_minor": 2
}
