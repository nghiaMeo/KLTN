{
 "cells": [
  {
   "cell_type": "code",
   "execution_count": 14,
   "metadata": {},
   "outputs": [
    {
     "name": "stdout",
     "output_type": "stream",
     "text": [
      "Distance from horizontal line to bottom of bounding box: 262\n",
      "Độ phân giải của hình ảnh: 0.14 MP\n",
      "Chiều cao của vật thể là: 857.60 cm\n"
     ]
    }
   ],
   "source": [
    "import cv2\n",
    "import numpy as np\n",
    "import math\n",
    "from PIL import Image\n",
    "\n",
    "# load ảnh lên và chuyển qua ảnh xám\n",
    "img = cv2.imread('./Inkedhinhtru.jpg')\n",
    "gray = cv2.cvtColor(img, cv2.COLOR_BGR2GRAY) \n",
    "\n",
    "x, y, w, h = [130, 110, 80, 190] # các giá trị để vẽ bounding box\n",
    "# cắt ảnh với bounding box.\n",
    "crop_img = gray[y:y+h, x:x+w]\n",
    "# hiển thị bounding box\n",
    "# cv2.imshow(\"s\",crop_img)\n",
    "# Apply edge detection\n",
    "edges = cv2.Canny(crop_img, 50, 150, apertureSize=3)\n",
    "\n",
    "# Apply Hough Line Transform to find lines\n",
    "lines = cv2.HoughLinesP(edges, rho=1, theta=np.pi/180, threshold=50, minLineLength=50, maxLineGap=10)\n",
    "\n",
    "# Find the horizontal lines\n",
    "horizontal_lines = []\n",
    "for line in lines:\n",
    "    x1, y1, x2, y2 = line[0]\n",
    "    angle = np.arctan2(y2-y1, x2-x1) * 180 / np.pi\n",
    "    if abs(angle) < 10:\n",
    "        horizontal_lines.append(line)\n",
    "\n",
    "# Draw the horizontal lines on the image\n",
    "for line in horizontal_lines:\n",
    "    x1, y1, x2, y2 = line[0]\n",
    "    cv2.line(img, (x1+x, y1+y), (x2+x, y2+y), (0, 0, 255), 2)\n",
    "\n",
    "# Calculate distance from horizontal line to bottom of bounding box\n",
    "if len(horizontal_lines) > 0:\n",
    "    # Calculate y coordinate of horizontal line as average of y coordinates of its points\n",
    "    y_hline = int(np.mean([y1+y for [[x1, y1, x2, y2]] in horizontal_lines]))\n",
    "    # Calculate distance from horizontal line to bottom of bounding box\n",
    "    distance = abs((y+y+h) - y_hline)\n",
    "    print(\"Distance from horizontal line to bottom of bounding box:\", distance)\n",
    "else:\n",
    "    print(\"Horizontal line not found\")\n",
    "\n",
    "\n",
    "# Load ảnh bằng PIL\n",
    "img = Image.open('./Inkedhinhtru.jpg')\n",
    "\n",
    "# Lấy kích thước ảnh\n",
    "width, height = img.size\n",
    "\n",
    "# Tính độ phân giải ảnh\n",
    "resolution = round((width * height) / 1000000, 2) # Chia cho 1 triệu để ra đơn vị MP\n",
    "\n",
    "# Xuất kết quả\n",
    "print(\"Độ phân giải của hình ảnh: {:.2f} MP\".format(resolution))\n",
    "'''\n",
    "image_resolution: độ phân giải ảnh (MP)\n",
    "pixel_height: chiều cao của vật thể trên ảnh (pixel)\n",
    "distance_to_object: khoảng cách từ camera đến vật thể (cm)\n",
    "'''\n",
    "# hàm uớc lượng tính chiều cao của mực nước hiện tại.\n",
    "def estimate_height(image_resolution, pixel_height, distance_to_object):\n",
    "    sensor_width = 3.6  # sensor width of the camera in mm\n",
    "    sensor_height = 2.4  # sensor height of the camera in mm\n",
    "    aspect_ratio = sensor_width / sensor_height\n",
    "    image_height = math.sqrt(image_resolution / aspect_ratio)\n",
    "    object_height = pixel_height * distance_to_object / image_height\n",
    "    return object_height\n",
    "# Display the image\n",
    "image_resolution = resolution  # 8 MP\n",
    "pixel_height = distance  # 300 pixel\n",
    "distance_to_object = 1  # 50 cm\n",
    "object_height = estimate_height(image_resolution, pixel_height, distance_to_object)\n",
    "print(\"Chiều cao của vật thể là: {:.2f} cm\".format(object_height))\n",
    "# cv2.imshow('Result', img) #hiển thị ảnh sau khi xử lý.\n",
    "# cv2.waitKey(0)\n",
    "# cv2.destroyAllWindows()\n"
   ]
  },
  {
   "cell_type": "code",
   "execution_count": 6,
   "metadata": {},
   "outputs": [
    {
     "name": "stdout",
     "output_type": "stream",
     "text": [
      "Độ phân giải ảnh là: 0.14 MP\n"
     ]
    }
   ],
   "source": [
    "from PIL import Image\n",
    "import os\n",
    "import math\n",
    "\n",
    "# Đường dẫn đến file ảnh\n",
    "img_path = './Inkedhinhtru.jpg'\n",
    "\n",
    "# Load ảnh bằng PIL\n",
    "img = Image.open(img_path)\n",
    "\n",
    "# Lấy kích thước ảnh\n",
    "width, height = img.size\n",
    "\n",
    "# Tính độ phân giải ảnh\n",
    "resolution = round((width * height) / 1000000, 2) # Chia cho 1 triệu để ra đơn vị MP\n",
    "\n",
    "# Xuất kết quả\n",
    "def estimate_height(image_resolution, pixel_height, distance_to_object):\n",
    "    sensor_width = 3.68  # sensor width of the camera in mm\n",
    "    sensor_height = 2.76  # sensor height of the camera in mm\n",
    "    aspect_ratio = sensor_width / sensor_height\n",
    "    image_height = math.sqrt(image_resolution / aspect_ratio)\n",
    "    object_height = pixel_height * distance_to_object / image_height\n",
    "    return object_height"
   ]
  },
  {
   "cell_type": "code",
   "execution_count": 7,
   "metadata": {},
   "outputs": [],
   "source": [
    "import cv2\n",
    "\n",
    "# load ảnh lên\n",
    "img = cv2.imread('./to.jpg')\n",
    "\n",
    "# resize ảnh về kích thước mới (400, 300)\n",
    "resized_img = cv2.resize(img, (400, 300))\n",
    "gray = cv2.cvtColor(resized_img, cv2.COLOR_BGR2GRAY) \n",
    "\n",
    "x, y, w, h = [130, 110, 80, 190] # các giá trị để vẽ bounding box\n",
    "\n",
    "crop_img = gray[y:y+h, x:x+w]\n",
    "\n",
    "cv2.rectangle(img, (x, y), (x + w, y + h), (0, 255, 0), 2)\n",
    "\n",
    "cv2.imshow('Resized Image', crop_img)\n",
    "cv2.waitKey()\n",
    "cv2.destroyAllWindows()"
   ]
  },
  {
   "cell_type": "code",
   "execution_count": 7,
   "metadata": {},
   "outputs": [],
   "source": [
    "import cv2\n",
    "\n",
    "# load ảnh lên\n",
    "img = cv2.imread('./to.jpg')\n",
    "resized_img = cv2.resize(img, (400, 300))\n",
    "\n",
    "x, y, w, h = [5, 120, 200, 50] # các giá trị để vẽ bounding box\n",
    "cv2.rectangle(resized_img, (x, y), (x + w, y + h), (0, 255, 0), 2)\n",
    "\n",
    "cv2.imshow('Image with bounding box', resized_img)\n",
    "cv2.waitKey()\n",
    "cv2.destroyAllWindows()"
   ]
  },
  {
   "cell_type": "code",
   "execution_count": 1,
   "metadata": {},
   "outputs": [
    {
     "name": "stdout",
     "output_type": "stream",
     "text": [
      "Total lines: 4\n"
     ]
    }
   ],
   "source": [
    "import cv2\n",
    "import numpy as np\n",
    "\n",
    "# Load ảnh và chuyển sang ảnh xám\n",
    "img = cv2.imread(\"./to.jpg\")\n",
    "resized_img = cv2.resize(img, (400, 300))\n",
    "gray = cv2.cvtColor(resized_img, cv2.COLOR_BGR2GRAY)\n",
    "cv2.imshow(\"resize\",resized_img)\n",
    "# Cắt ảnh với bounding box\n",
    "x, y, w, h = [5, 120, 200, 50]\n",
    "crop_img = gray[y:y+h, x:x+w]\n",
    "cv2.imshow(\"boundingbox\",crop_img)\n",
    "# Chuyển ảnh thành ảnh nhị phân (black and white)\n",
    "_, thresh = cv2.threshold(crop_img, 127, 255, cv2.THRESH_BINARY)\n",
    "\n",
    "# Loại bỏ các nhiễu và các điểm không phải vạch\n",
    "kernel = np.ones((3,3), np.uint8)\n",
    "opening = cv2.morphologyEx(thresh, cv2.MORPH_OPEN, kernel, iterations=2)\n",
    "\n",
    "# Tìm đường biên của các vùng trắng còn lại trên ảnh\n",
    "contours, _ = cv2.findContours(opening, cv2.RETR_EXTERNAL, cv2.CHAIN_APPROX_SIMPLE)\n",
    "\n",
    "# Đếm số lượng vạch trắng và đỏ trên ảnh\n",
    "num_red_lines, num_white_lines = 0, 0\n",
    "for cnt in contours:\n",
    "    area = cv2.contourArea(cnt)\n",
    "    if area < 50:\n",
    "        continue\n",
    "    if area > 200:\n",
    "        num_red_lines += 1\n",
    "    else:\n",
    "        num_white_lines += 1\n",
    "\n",
    "# Tính tổng số lượng vạch trên ảnh\n",
    "total_lines = num_red_lines + num_white_lines\n",
    "\n",
    "# Hiển thị kết quả\n",
    "print(\"Total lines:\", total_lines)\n",
    "cv2.waitKey()\n",
    "cv2.destroyAllWindows()"
   ]
  },
  {
   "cell_type": "code",
   "execution_count": 11,
   "metadata": {},
   "outputs": [
    {
     "name": "stdout",
     "output_type": "stream",
     "text": [
      "Số vạch trắng: 0\n",
      "Số vạch đỏ: 0\n"
     ]
    }
   ],
   "source": [
    "import cv2\n",
    "import numpy as np\n",
    "\n",
    "# đọc ảnh và chuyển đổi thành ảnh xám\n",
    "img = cv2.imread('./color.png', cv2.IMREAD_GRAYSCALE)\n",
    "\n",
    "\n",
    "# ngưỡng cực đại địa phương\n",
    "kernel = np.ones((5,5),np.uint8)\n",
    "local_max = cv2.dilate(img, kernel) - cv2.erode(img, kernel)\n",
    "\n",
    "# đếm số lượng vạch trắng và đỏ\n",
    "white_lines = np.sum(local_max == 255)\n",
    "red_lines = np.sum(local_max == 128)\n",
    "\n",
    "print(\"Số vạch trắng:\", white_lines)\n",
    "print(\"Số vạch đỏ:\", red_lines)\n",
    "cv2.imshow(\"c\",img)\n",
    "cv2.waitKey()\n",
    "cv2.destroyAllWindows()"
   ]
  },
  {
   "cell_type": "code",
   "execution_count": 23,
   "metadata": {},
   "outputs": [],
   "source": [
    "import cv2\n",
    "import numpy as np\n",
    "\n",
    "# Đọc hình ảnh\n",
    "img = cv2.imread('./color.png')\n",
    "\n",
    "# Chuyển đổi ảnh sang không gian màu HSV\n",
    "hsv = cv2.cvtColor(img, cv2.COLOR_BGR2HSV)\n",
    "\n",
    "# Định nghĩa phạm vi màu đỏ trong không gian màu HSV\n",
    "lower_red = np.array([0, 50, 50])\n",
    "upper_red = np.array([10, 255, 255])\n",
    "lower_red2 = np.array([170, 50, 50])\n",
    "upper_red2 = np.array([180, 255, 255])\n",
    "\n",
    "# Định nghĩa phạm vi màu trắng trong không gian màu HSV\n",
    "lower_white = np.array([0, 0, 200])\n",
    "upper_white = np.array([255, 30, 255])\n",
    "\n",
    "# Tìm các pixel có giá trị màu đỏ trong phạm vi đã định nghĩa\n",
    "mask_red1 = cv2.inRange(hsv, lower_red, upper_red)\n",
    "mask_red2 = cv2.inRange(hsv, lower_red2, upper_red2)\n",
    "mask_red = mask_red1 + mask_red2\n",
    "\n",
    "# Tìm các pixel có giá trị màu trắng trong phạm vi đã định nghĩa\n",
    "mask_white = cv2.inRange(hsv, lower_white, upper_white)\n",
    "\n",
    "# Hiển thị kết quả\n",
    "cv2.imshow('Red Mask', mask_red)\n",
    "cv2.imshow('White Mask', mask_white)\n",
    "cv2.waitKey(0)\n",
    "cv2.destroyAllWindows()\n"
   ]
  },
  {
   "cell_type": "code",
   "execution_count": 33,
   "metadata": {},
   "outputs": [
    {
     "name": "stdout",
     "output_type": "stream",
     "text": [
      "Số lượng vạch màu đỏ trong bounding box: 8\n"
     ]
    }
   ],
   "source": [
    "import cv2\n",
    "\n",
    "# Load ảnh và bounding box\n",
    "img = cv2.imread('./do.png')\n",
    "x, y, w, h = (10, 20, 200, 900) # bounding box có tọa độ (100, 100) và kích thước (200, 200)\n",
    "\n",
    "# Cắt ảnh theo bounding box\n",
    "img_roi = img[y:y+h, x:x+w]\n",
    "cv2.imshow(\"s\",img_roi)\n",
    "# Chuyển ảnh sang không gian màu HSV\n",
    "img_hsv = cv2.cvtColor(img_roi, cv2.COLOR_BGR2HSV)\n",
    "\n",
    "# Đặt ngưỡng màu đỏ\n",
    "lower_red = np.array([0, 50, 50])\n",
    "upper_red = np.array([10, 255, 255])\n",
    "mask_red1 = cv2.inRange(img_hsv, lower_red, upper_red)\n",
    "\n",
    "lower_red = np.array([170, 50, 50])\n",
    "upper_red = np.array([180, 255, 255])\n",
    "mask_red2 = cv2.inRange(img_hsv, lower_red, upper_red)\n",
    "\n",
    "mask_red = mask_red1 + mask_red2\n",
    "\n",
    "# Đếm số lượng vạch màu đỏ\n",
    "contours, hierarchy = cv2.findContours(mask_red, cv2.RETR_EXTERNAL, cv2.CHAIN_APPROX_SIMPLE)\n",
    "count_red = len(contours)\n",
    "\n",
    "print('Số lượng vạch màu đỏ trong bounding box:', count_red)\n",
    "cv2.waitKey()\n",
    "cv2.destroyAllWindows()\n"
   ]
  }
 ],
 "metadata": {
  "kernelspec": {
   "display_name": "Python 3",
   "language": "python",
   "name": "python3"
  },
  "language_info": {
   "codemirror_mode": {
    "name": "ipython",
    "version": 3
   },
   "file_extension": ".py",
   "mimetype": "text/x-python",
   "name": "python",
   "nbconvert_exporter": "python",
   "pygments_lexer": "ipython3",
   "version": "3.9.11"
  },
  "orig_nbformat": 4,
  "vscode": {
   "interpreter": {
    "hash": "09a3d8019c2bf50c43aa710ba05d060355a89c06ca86b74ee5a78868857e0af8"
   }
  }
 },
 "nbformat": 4,
 "nbformat_minor": 2
}
